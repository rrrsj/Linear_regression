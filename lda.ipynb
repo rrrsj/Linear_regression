{
  "nbformat": 4,
  "nbformat_minor": 0,
  "metadata": {
    "colab": {
      "provenance": []
    },
    "kernelspec": {
      "name": "python3",
      "display_name": "Python 3"
    },
    "language_info": {
      "name": "python"
    }
  },
  "cells": [
    {
      "cell_type": "code",
      "execution_count": null,
      "metadata": {
        "id": "0ygx5ApVRQ6z"
      },
      "outputs": [],
      "source": [
        "import torch\n",
        "import torch.nn as nn\n",
        "import matplotlib.pyplot as plt\n",
        "import numpy as np"
      ]
    },
    {
      "cell_type": "code",
      "source": [
        "red_path='./drive/MyDrive/ml/lab3/ex3red.dat'\n",
        "green_path='./drive/MyDrive/ml/lab3/ex3green.dat'\n",
        "blue_path='./drive/MyDrive/ml/lab3/ex3blue.dat'"
      ],
      "metadata": {
        "id": "bisGg1uVBrEj"
      },
      "execution_count": null,
      "outputs": []
    },
    {
      "cell_type": "code",
      "source": [
        "green_data=[]\n",
        "blue_data=[]\n",
        "red_data=[]\n",
        "red_x=[]\n",
        "red_y=[]\n",
        "green_x=[]\n",
        "green_y=[]\n",
        "blue_x=[]\n",
        "blue_y=[]\n",
        "with open(green_path,'r')as f:\n",
        "  for line in f:\n",
        "    now=line.replace('\\n','')\n",
        "    now=now.split(' ')\n",
        "    data=[]\n",
        "    for i in now:\n",
        "      data.append(float(i))\n",
        "    green_x.append(data[0])\n",
        "    green_y.append(data[1])\n",
        "    green_data.append(data)\n",
        "with open(red_path,'r')as f:\n",
        "  for line in f:\n",
        "    now=line.replace('\\n','')\n",
        "    now=now.split(' ')\n",
        "    data=[]\n",
        "    for i in now:\n",
        "      data.append(float(i))\n",
        "    red_x.append(data[0])\n",
        "    red_y.append(data[1])\n",
        "    red_data.append(data)\n",
        "with open(blue_path,'r')as f:\n",
        "  for line in f:\n",
        "    now=line.replace('\\n','')\n",
        "    now=now.split(' ')\n",
        "    data=[]\n",
        "    for i in now:\n",
        "      data.append(float(i))\n",
        "    blue_x.append(data[0])\n",
        "    blue_y.append(data[1])\n",
        "    blue_data.append(data)\n",
        "print(green_data)\n",
        "print(blue_data)\n",
        "print(red_data)"
      ],
      "metadata": {
        "colab": {
          "base_uri": "https://localhost:8080/"
        },
        "id": "8B8YjV86CAz0",
        "outputId": "777474ca-a637-4065-e9c7-46694db748a2"
      },
      "execution_count": null,
      "outputs": [
        {
          "output_type": "stream",
          "name": "stdout",
          "text": [
            "[[4.95, 8.63], [5.53, 7.79], [4.57, 8.65], [4.16, 9.47], [5.78, 8.42], [5.78, 7.42], [4.18, 8.27], [4.28, 8.02], [4.68, 7.42], [4.58, 8.16], [5.78, 8.42], [5.78, 9.42], [5.78, 7.42], [5.78, 8.42]]\n",
            "[[2.58, 4.46], [2.16, 6.22], [1.27, 4.23], [1.58, 4.46], [1.16, 5.7], [1.24, 3.52], [1.1, 3.91], [1.78, 6.41], [1.9, 3.22], [1.66, 5.5], [2.2, 5.2], [1.89, 4.0], [2.37, 3.62], [2.3, 2.94]]\n",
            "[[2.95, 6.63], [2.53, 7.79], [3.57, 5.65], [3.16, 5.47], [2.78, 6.42], [2.78, 7.42], [3.18, 8.27], [3.28, 6.42], [3.68, 7.42], [3.58, 8.16], [2.78, 8.42], [2.78, 6.42], [2.78, 7.42], [2.78, 8.42]]\n"
          ]
        }
      ]
    },
    {
      "cell_type": "code",
      "source": [
        "plt.scatter(green_x,green_y,c='green')\n",
        "plt.scatter(blue_x,blue_y,c='blue')\n",
        "plt.scatter(red_x,red_y,c='red')\n",
        "plt.show()"
      ],
      "metadata": {
        "colab": {
          "base_uri": "https://localhost:8080/",
          "height": 430
        },
        "id": "mBT2bkenCHjJ",
        "outputId": "f1a6f869-1000-43ea-fb14-5bfe92364648"
      },
      "execution_count": null,
      "outputs": [
        {
          "output_type": "display_data",
          "data": {
            "text/plain": [
              "<Figure size 640x480 with 1 Axes>"
            ],
            "image/png": "[encoded data removed]"
          },
          "metadata": {}
        }
      ]
    },
    {
      "cell_type": "code",
      "source": [
        "def two_class(class_one,class_two):\n",
        "  average_one=[0,0];\n",
        "  average_two=[0,0];\n",
        "  sw=np.array([[0.,0.],[0.,0.]])\n",
        "  for i in range(len(class_one)):\n",
        "    average_one[0]+=class_one[i][0]\n",
        "    average_one[1]+=class_one[i][1]\n",
        "  for i in range(len(class_two)):\n",
        "    average_two[0]+=class_two[i][0]\n",
        "    average_two[1]+=class_two[i][1]\n",
        "  average_one[0]/=len(class_one)\n",
        "  average_one[1]/=len(class_one)\n",
        "  average_two[0]/=len(class_two)\n",
        "  average_two[1]/=len(class_two)\n",
        "  u1=np.array(average_one)\n",
        "  u2=np.array(average_two)\n",
        "  u1=u1.reshape(1,2)\n",
        "  u2=u2.reshape(1,2)\n",
        "  sb=np.transpose(u1-u2)*(u1-u2)\n",
        "  for i in range(len(class_one)):\n",
        "    linshi=np.array(class_one[i])\n",
        "    linshi=linshi.reshape(1,2)\n",
        "    sw=sw+np.transpose(linshi-u1)*(linshi-u1)\n",
        "  for i in range(len(class_two)):\n",
        "    linshi=np.array(class_two[i])\n",
        "    linshi=linshi.reshape(1,2)\n",
        "    sw=sw+np.transpose(linshi-u2)*(linshi-u2)\n",
        "  end=np.linalg.inv(sw)*sb\n",
        "  eigenvalues,eigenvectors =np.linalg.eig(end)\n",
        "  max_index = np.argmax(eigenvalues)\n",
        "  axis = eigenvectors[:, max_index]\n",
        "  axis=axis.reshape((1,2))\n",
        "  return axis"
      ],
      "metadata": {
        "id": "cN0CvzV8RAQB"
      },
      "execution_count": null,
      "outputs": []
    },
    {
      "cell_type": "code",
      "source": [
        "ans=two_class(red_data,blue_data)\n",
        "now_x=[]\n",
        "now_y=[]\n",
        "for i in np.arange(0,10,0.1):\n",
        "  now_x.append(i)\n",
        "  now_y.append(ans[0][1]/ans[0][0]*i)\n",
        "plt.scatter(blue_x,blue_y,c='blue')\n",
        "plt.scatter(red_x,red_y,c='red')\n",
        "plt.plot(now_x,now_y)\n",
        "plt.show()"
      ],
      "metadata": {
        "colab": {
          "base_uri": "https://localhost:8080/",
          "height": 430
        },
        "id": "btUwnOyym2Hj",
        "outputId": "640e941b-4e19-4970-a862-dc4771fd3846"
      },
      "execution_count": null,
      "outputs": [
        {
          "output_type": "display_data",
          "data": {
            "text/plain": [
              "<Figure size 640x480 with 1 Axes>"
            ],
            "image/png": "[encoded data removed]"
          },
          "metadata": {}
        }
      ]
    },
    {
      "cell_type": "code",
      "source": [
        "def many_class(class_list,sum):\n",
        "  average=[]\n",
        "  average_sum=[0. for j in range(len(class_list[0][0]))]\n",
        "  sw=np.zeros((len(class_list[0][0]),len(class_list[0][0])))\n",
        "  sb=np.zeros((len(class_list[0][0]),len(class_list[0][0])))\n",
        "  for i in class_list:\n",
        "    average_now=[0. for j in range(len(class_list[0][0]))]\n",
        "    for j in range(len(i)):\n",
        "      for k in range(len(i[0])):\n",
        "        average_now[k]+=i[j][k]\n",
        "        average_sum[k]+=i[j][k]\n",
        "    for j in range(len(average_now)):\n",
        "      average_now[j]/=len(i)\n",
        "    average.append(average_now)\n",
        "  for i in range(len(average_sum)):\n",
        "    average_sum[i]/=sum\n",
        "  for i in range(len(class_list)):\n",
        "    for j in range(len(class_list[i])):\n",
        "      linshi=np.array(class_list[i][j])\n",
        "      linshi=linshi.reshape(1,len(class_list[0][0]))\n",
        "      u=np.array(average[i])\n",
        "      u=u.reshape(1,len(class_list[0][0]))\n",
        "      sw=sw+np.transpose(linshi-u)*(linshi-u)\n",
        "  for i in range(len(average)):\n",
        "    linshi=np.array(average[i])\n",
        "    linshi=linshi.reshape(1,len(class_list[0][0]))\n",
        "    u=np.array(average_sum)\n",
        "    u=u.reshape(1,len(class_list[0][0]))\n",
        "    sb=sb+len(class_list[i])*(np.transpose(linshi-u)*(linshi-u))\n",
        "  end=np.linalg.inv(sw)*sb\n",
        "  eigenvalues,eigenvectors =np.linalg.eig(end)\n",
        "  max_index = np.argmax(eigenvalues)\n",
        "  axis = eigenvectors[:, max_index]\n",
        "  axis=axis.reshape((1,len(class_list[0][0])))\n",
        "  return axis"
      ],
      "metadata": {
        "id": "fKPm6CyhJyp5"
      },
      "execution_count": null,
      "outputs": []
    },
    {
      "cell_type": "code",
      "source": [
        "sum=len(blue_data)+len(green_data)+len(red_data)\n",
        "sum_data=[]\n",
        "sum_data.append(blue_data)\n",
        "sum_data.append(green_data)\n",
        "sum_data.append(red_data)\n",
        "ans=many_class(sum_data,sum)\n",
        "now_x=[]\n",
        "now_y=[]\n",
        "for i in np.arange(0,10,0.1):\n",
        "  now_x.append(i)\n",
        "  now_y.append(ans[0][1]/ans[0][0]*i)\n",
        "plt.scatter(blue_x,blue_y,c='blue')\n",
        "plt.scatter(red_x,red_y,c='red')\n",
        "plt.scatter(green_x,green_y,c='green')\n",
        "plt.plot(now_x,now_y)\n",
        "plt.show()"
      ],
      "metadata": {
        "colab": {
          "base_uri": "https://localhost:8080/",
          "height": 430
        },
        "id": "usbR_EA3FINN",
        "outputId": "e4536946-c015-4dee-9baa-91684a57dad4"
      },
      "execution_count": null,
      "outputs": [
        {
          "output_type": "display_data",
          "data": {
            "text/plain": [
              "<Figure size 640x480 with 1 Axes>"
            ],
            "image/png": "[encoded data removed]"
          },
          "metadata": {}
        }
      ]
    }
  ]
}